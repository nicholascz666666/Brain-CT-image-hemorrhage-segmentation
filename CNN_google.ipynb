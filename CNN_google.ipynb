{
 "cells": [
  {
   "cell_type": "code",
   "execution_count": 1,
   "id": "36f83950",
   "metadata": {},
   "outputs": [],
   "source": [
    "import numpy as np\n",
    "import pandas as pd"
   ]
  },
  {
   "cell_type": "code",
   "execution_count": 2,
   "id": "61957261",
   "metadata": {},
   "outputs": [
    {
     "name": "stdout",
     "output_type": "stream",
     "text": [
      "(2000, 22501)\n"
     ]
    }
   ],
   "source": [
    "dataset = pd.read_csv('/Users/eciel/Desktop/y3s2/math4570/project/CNN_sub/dataset_2000.csv', index_col=0)\n",
    "print(dataset.shape)"
   ]
  },
  {
   "cell_type": "code",
   "execution_count": 3,
   "id": "3a14c8a1",
   "metadata": {},
   "outputs": [],
   "source": [
    "dir = '/Users/eciel/Desktop/y3s2/math4570/project/CNN_sub'"
   ]
  },
  {
   "cell_type": "code",
   "execution_count": 4,
   "id": "9d0f41b0",
   "metadata": {},
   "outputs": [
    {
     "data": {
      "text/html": [
       "<div>\n",
       "<style scoped>\n",
       "    .dataframe tbody tr th:only-of-type {\n",
       "        vertical-align: middle;\n",
       "    }\n",
       "\n",
       "    .dataframe tbody tr th {\n",
       "        vertical-align: top;\n",
       "    }\n",
       "\n",
       "    .dataframe thead th {\n",
       "        text-align: right;\n",
       "    }\n",
       "</style>\n",
       "<table border=\"1\" class=\"dataframe\">\n",
       "  <thead>\n",
       "    <tr style=\"text-align: right;\">\n",
       "      <th></th>\n",
       "      <th>0</th>\n",
       "      <th>1</th>\n",
       "      <th>2</th>\n",
       "      <th>3</th>\n",
       "      <th>4</th>\n",
       "      <th>5</th>\n",
       "      <th>6</th>\n",
       "      <th>7</th>\n",
       "      <th>8</th>\n",
       "      <th>9</th>\n",
       "      <th>...</th>\n",
       "      <th>22491</th>\n",
       "      <th>22492</th>\n",
       "      <th>22493</th>\n",
       "      <th>22494</th>\n",
       "      <th>22495</th>\n",
       "      <th>22496</th>\n",
       "      <th>22497</th>\n",
       "      <th>22498</th>\n",
       "      <th>22499</th>\n",
       "      <th>Target</th>\n",
       "    </tr>\n",
       "  </thead>\n",
       "  <tbody>\n",
       "    <tr>\n",
       "      <th>0</th>\n",
       "      <td>0.000000</td>\n",
       "      <td>0.000000</td>\n",
       "      <td>0.000000</td>\n",
       "      <td>0.000000</td>\n",
       "      <td>0.000000</td>\n",
       "      <td>0.000000</td>\n",
       "      <td>0.000000</td>\n",
       "      <td>0.000000</td>\n",
       "      <td>0.000000</td>\n",
       "      <td>0.000000</td>\n",
       "      <td>...</td>\n",
       "      <td>0.000000</td>\n",
       "      <td>0.000000</td>\n",
       "      <td>0.000000</td>\n",
       "      <td>0.000000</td>\n",
       "      <td>0.000000</td>\n",
       "      <td>0.000000</td>\n",
       "      <td>0.000000</td>\n",
       "      <td>0.000000</td>\n",
       "      <td>0.000000</td>\n",
       "      <td>0.0</td>\n",
       "    </tr>\n",
       "    <tr>\n",
       "      <th>1</th>\n",
       "      <td>0.000000</td>\n",
       "      <td>0.000000</td>\n",
       "      <td>0.000000</td>\n",
       "      <td>0.000000</td>\n",
       "      <td>0.000000</td>\n",
       "      <td>0.000000</td>\n",
       "      <td>0.000000</td>\n",
       "      <td>0.000000</td>\n",
       "      <td>0.000000</td>\n",
       "      <td>0.000000</td>\n",
       "      <td>...</td>\n",
       "      <td>0.000000</td>\n",
       "      <td>0.000000</td>\n",
       "      <td>0.000000</td>\n",
       "      <td>0.000000</td>\n",
       "      <td>0.000000</td>\n",
       "      <td>0.000000</td>\n",
       "      <td>0.000000</td>\n",
       "      <td>0.000000</td>\n",
       "      <td>0.000000</td>\n",
       "      <td>0.0</td>\n",
       "    </tr>\n",
       "    <tr>\n",
       "      <th>2</th>\n",
       "      <td>0.000000</td>\n",
       "      <td>0.000000</td>\n",
       "      <td>0.000000</td>\n",
       "      <td>0.000000</td>\n",
       "      <td>0.000000</td>\n",
       "      <td>0.000000</td>\n",
       "      <td>0.000000</td>\n",
       "      <td>0.000000</td>\n",
       "      <td>0.000000</td>\n",
       "      <td>0.000000</td>\n",
       "      <td>...</td>\n",
       "      <td>0.000000</td>\n",
       "      <td>0.000000</td>\n",
       "      <td>0.000000</td>\n",
       "      <td>0.000000</td>\n",
       "      <td>0.000000</td>\n",
       "      <td>0.000000</td>\n",
       "      <td>0.000000</td>\n",
       "      <td>0.000000</td>\n",
       "      <td>0.000000</td>\n",
       "      <td>0.0</td>\n",
       "    </tr>\n",
       "    <tr>\n",
       "      <th>3</th>\n",
       "      <td>0.141643</td>\n",
       "      <td>0.170945</td>\n",
       "      <td>0.144681</td>\n",
       "      <td>0.120416</td>\n",
       "      <td>0.134589</td>\n",
       "      <td>0.135334</td>\n",
       "      <td>0.146643</td>\n",
       "      <td>0.145720</td>\n",
       "      <td>0.136861</td>\n",
       "      <td>0.158913</td>\n",
       "      <td>...</td>\n",
       "      <td>0.225402</td>\n",
       "      <td>0.211255</td>\n",
       "      <td>0.197990</td>\n",
       "      <td>0.192564</td>\n",
       "      <td>0.194994</td>\n",
       "      <td>0.206209</td>\n",
       "      <td>0.214901</td>\n",
       "      <td>0.207494</td>\n",
       "      <td>0.201035</td>\n",
       "      <td>0.0</td>\n",
       "    </tr>\n",
       "    <tr>\n",
       "      <th>4</th>\n",
       "      <td>0.026669</td>\n",
       "      <td>0.019881</td>\n",
       "      <td>0.027184</td>\n",
       "      <td>0.017099</td>\n",
       "      <td>0.018000</td>\n",
       "      <td>0.014370</td>\n",
       "      <td>0.015096</td>\n",
       "      <td>0.014257</td>\n",
       "      <td>0.009509</td>\n",
       "      <td>0.012638</td>\n",
       "      <td>...</td>\n",
       "      <td>0.590608</td>\n",
       "      <td>0.583297</td>\n",
       "      <td>0.576501</td>\n",
       "      <td>0.564819</td>\n",
       "      <td>0.560007</td>\n",
       "      <td>0.541477</td>\n",
       "      <td>0.523699</td>\n",
       "      <td>0.520758</td>\n",
       "      <td>0.516949</td>\n",
       "      <td>0.0</td>\n",
       "    </tr>\n",
       "    <tr>\n",
       "      <th>...</th>\n",
       "      <td>...</td>\n",
       "      <td>...</td>\n",
       "      <td>...</td>\n",
       "      <td>...</td>\n",
       "      <td>...</td>\n",
       "      <td>...</td>\n",
       "      <td>...</td>\n",
       "      <td>...</td>\n",
       "      <td>...</td>\n",
       "      <td>...</td>\n",
       "      <td>...</td>\n",
       "      <td>...</td>\n",
       "      <td>...</td>\n",
       "      <td>...</td>\n",
       "      <td>...</td>\n",
       "      <td>...</td>\n",
       "      <td>...</td>\n",
       "      <td>...</td>\n",
       "      <td>...</td>\n",
       "      <td>...</td>\n",
       "      <td>...</td>\n",
       "    </tr>\n",
       "    <tr>\n",
       "      <th>1995</th>\n",
       "      <td>0.116076</td>\n",
       "      <td>0.114485</td>\n",
       "      <td>0.107206</td>\n",
       "      <td>0.105213</td>\n",
       "      <td>0.112215</td>\n",
       "      <td>0.127081</td>\n",
       "      <td>0.114783</td>\n",
       "      <td>0.103974</td>\n",
       "      <td>0.108155</td>\n",
       "      <td>0.109855</td>\n",
       "      <td>...</td>\n",
       "      <td>0.076478</td>\n",
       "      <td>0.070314</td>\n",
       "      <td>0.082774</td>\n",
       "      <td>0.084133</td>\n",
       "      <td>0.081973</td>\n",
       "      <td>0.082092</td>\n",
       "      <td>0.087135</td>\n",
       "      <td>0.097989</td>\n",
       "      <td>0.090095</td>\n",
       "      <td>0.0</td>\n",
       "    </tr>\n",
       "    <tr>\n",
       "      <th>1996</th>\n",
       "      <td>0.043083</td>\n",
       "      <td>0.041415</td>\n",
       "      <td>0.048605</td>\n",
       "      <td>0.043458</td>\n",
       "      <td>0.049944</td>\n",
       "      <td>0.045463</td>\n",
       "      <td>0.041208</td>\n",
       "      <td>0.044168</td>\n",
       "      <td>0.046213</td>\n",
       "      <td>0.044864</td>\n",
       "      <td>...</td>\n",
       "      <td>0.349155</td>\n",
       "      <td>0.359752</td>\n",
       "      <td>0.358579</td>\n",
       "      <td>0.362923</td>\n",
       "      <td>0.360237</td>\n",
       "      <td>0.355084</td>\n",
       "      <td>0.360335</td>\n",
       "      <td>0.376276</td>\n",
       "      <td>0.399653</td>\n",
       "      <td>0.0</td>\n",
       "    </tr>\n",
       "    <tr>\n",
       "      <th>1997</th>\n",
       "      <td>0.000000</td>\n",
       "      <td>0.000000</td>\n",
       "      <td>0.000000</td>\n",
       "      <td>0.000000</td>\n",
       "      <td>0.000000</td>\n",
       "      <td>0.000000</td>\n",
       "      <td>0.000000</td>\n",
       "      <td>0.000000</td>\n",
       "      <td>0.000000</td>\n",
       "      <td>0.000000</td>\n",
       "      <td>...</td>\n",
       "      <td>0.000000</td>\n",
       "      <td>0.000000</td>\n",
       "      <td>0.000000</td>\n",
       "      <td>0.000000</td>\n",
       "      <td>0.000000</td>\n",
       "      <td>0.000000</td>\n",
       "      <td>0.000000</td>\n",
       "      <td>0.000000</td>\n",
       "      <td>0.000000</td>\n",
       "      <td>0.0</td>\n",
       "    </tr>\n",
       "    <tr>\n",
       "      <th>1998</th>\n",
       "      <td>0.266252</td>\n",
       "      <td>0.251158</td>\n",
       "      <td>0.279192</td>\n",
       "      <td>0.247119</td>\n",
       "      <td>0.238657</td>\n",
       "      <td>0.238110</td>\n",
       "      <td>0.241987</td>\n",
       "      <td>0.271989</td>\n",
       "      <td>0.237062</td>\n",
       "      <td>0.217697</td>\n",
       "      <td>...</td>\n",
       "      <td>0.283047</td>\n",
       "      <td>0.270483</td>\n",
       "      <td>0.280916</td>\n",
       "      <td>0.316436</td>\n",
       "      <td>0.318623</td>\n",
       "      <td>0.313937</td>\n",
       "      <td>0.326394</td>\n",
       "      <td>0.315152</td>\n",
       "      <td>0.299201</td>\n",
       "      <td>0.0</td>\n",
       "    </tr>\n",
       "    <tr>\n",
       "      <th>1999</th>\n",
       "      <td>0.148238</td>\n",
       "      <td>0.170593</td>\n",
       "      <td>0.161930</td>\n",
       "      <td>0.160427</td>\n",
       "      <td>0.196306</td>\n",
       "      <td>0.159646</td>\n",
       "      <td>0.188466</td>\n",
       "      <td>0.144587</td>\n",
       "      <td>0.159206</td>\n",
       "      <td>0.164748</td>\n",
       "      <td>...</td>\n",
       "      <td>0.198757</td>\n",
       "      <td>0.244711</td>\n",
       "      <td>0.256859</td>\n",
       "      <td>0.297207</td>\n",
       "      <td>0.353136</td>\n",
       "      <td>0.373760</td>\n",
       "      <td>0.389051</td>\n",
       "      <td>0.385939</td>\n",
       "      <td>0.371416</td>\n",
       "      <td>0.0</td>\n",
       "    </tr>\n",
       "  </tbody>\n",
       "</table>\n",
       "<p>2000 rows × 22501 columns</p>\n",
       "</div>"
      ],
      "text/plain": [
       "             0         1         2         3         4         5         6  \\\n",
       "0     0.000000  0.000000  0.000000  0.000000  0.000000  0.000000  0.000000   \n",
       "1     0.000000  0.000000  0.000000  0.000000  0.000000  0.000000  0.000000   \n",
       "2     0.000000  0.000000  0.000000  0.000000  0.000000  0.000000  0.000000   \n",
       "3     0.141643  0.170945  0.144681  0.120416  0.134589  0.135334  0.146643   \n",
       "4     0.026669  0.019881  0.027184  0.017099  0.018000  0.014370  0.015096   \n",
       "...        ...       ...       ...       ...       ...       ...       ...   \n",
       "1995  0.116076  0.114485  0.107206  0.105213  0.112215  0.127081  0.114783   \n",
       "1996  0.043083  0.041415  0.048605  0.043458  0.049944  0.045463  0.041208   \n",
       "1997  0.000000  0.000000  0.000000  0.000000  0.000000  0.000000  0.000000   \n",
       "1998  0.266252  0.251158  0.279192  0.247119  0.238657  0.238110  0.241987   \n",
       "1999  0.148238  0.170593  0.161930  0.160427  0.196306  0.159646  0.188466   \n",
       "\n",
       "             7         8         9  ...     22491     22492     22493  \\\n",
       "0     0.000000  0.000000  0.000000  ...  0.000000  0.000000  0.000000   \n",
       "1     0.000000  0.000000  0.000000  ...  0.000000  0.000000  0.000000   \n",
       "2     0.000000  0.000000  0.000000  ...  0.000000  0.000000  0.000000   \n",
       "3     0.145720  0.136861  0.158913  ...  0.225402  0.211255  0.197990   \n",
       "4     0.014257  0.009509  0.012638  ...  0.590608  0.583297  0.576501   \n",
       "...        ...       ...       ...  ...       ...       ...       ...   \n",
       "1995  0.103974  0.108155  0.109855  ...  0.076478  0.070314  0.082774   \n",
       "1996  0.044168  0.046213  0.044864  ...  0.349155  0.359752  0.358579   \n",
       "1997  0.000000  0.000000  0.000000  ...  0.000000  0.000000  0.000000   \n",
       "1998  0.271989  0.237062  0.217697  ...  0.283047  0.270483  0.280916   \n",
       "1999  0.144587  0.159206  0.164748  ...  0.198757  0.244711  0.256859   \n",
       "\n",
       "         22494     22495     22496     22497     22498     22499  Target  \n",
       "0     0.000000  0.000000  0.000000  0.000000  0.000000  0.000000     0.0  \n",
       "1     0.000000  0.000000  0.000000  0.000000  0.000000  0.000000     0.0  \n",
       "2     0.000000  0.000000  0.000000  0.000000  0.000000  0.000000     0.0  \n",
       "3     0.192564  0.194994  0.206209  0.214901  0.207494  0.201035     0.0  \n",
       "4     0.564819  0.560007  0.541477  0.523699  0.520758  0.516949     0.0  \n",
       "...        ...       ...       ...       ...       ...       ...     ...  \n",
       "1995  0.084133  0.081973  0.082092  0.087135  0.097989  0.090095     0.0  \n",
       "1996  0.362923  0.360237  0.355084  0.360335  0.376276  0.399653     0.0  \n",
       "1997  0.000000  0.000000  0.000000  0.000000  0.000000  0.000000     0.0  \n",
       "1998  0.316436  0.318623  0.313937  0.326394  0.315152  0.299201     0.0  \n",
       "1999  0.297207  0.353136  0.373760  0.389051  0.385939  0.371416     0.0  \n",
       "\n",
       "[2000 rows x 22501 columns]"
      ]
     },
     "execution_count": 4,
     "metadata": {},
     "output_type": "execute_result"
    }
   ],
   "source": [
    "dataset"
   ]
  },
  {
   "cell_type": "code",
   "execution_count": 5,
   "id": "df52d50e",
   "metadata": {},
   "outputs": [
    {
     "data": {
      "text/plain": [
       "2000"
      ]
     },
     "execution_count": 5,
     "metadata": {},
     "output_type": "execute_result"
    }
   ],
   "source": [
    "y0 = dataset[\"Target\"]\n",
    "y0.shape[0]"
   ]
  },
  {
   "cell_type": "code",
   "execution_count": 6,
   "id": "51057d24",
   "metadata": {},
   "outputs": [],
   "source": [
    "# Replace label -10 by 6 for catacorial loss\n",
    "classes = 7\n",
    "\n",
    "for i in range(y0.shape[0]):\n",
    "    if y0[i] == -10.0:\n",
    "        #print(y0[i])\n",
    "        y0[i] = 6.0\n",
    "    elif y0[i] == 10.0:\n",
    "        y0[i] = 7.0"
   ]
  },
  {
   "cell_type": "code",
   "execution_count": 7,
   "id": "5db723b0",
   "metadata": {},
   "outputs": [
    {
     "name": "stdout",
     "output_type": "stream",
     "text": [
      "Index(['0', '1', '2', '3', '4', '5', '6', '7', '8', '9',\n",
      "       ...\n",
      "       '22490', '22491', '22492', '22493', '22494', '22495', '22496', '22497',\n",
      "       '22498', '22499'],\n",
      "      dtype='object', length=22500)\n"
     ]
    }
   ],
   "source": [
    "X = dataset.drop('Target', inplace=False, axis=1)\n",
    "#X = X.drop('Unnamed: 0', inplace=False, axis=1)\n",
    "print(X.columns)\n",
    "#X = dataset.drop('Unnamed: 0', inplace=False, axis=1)\n",
    "X_train = X.to_numpy()\n",
    "y0 = y0.to_numpy()\n",
    "y0 = y0.astype(int)"
   ]
  },
  {
   "cell_type": "code",
   "execution_count": 8,
   "id": "8de3910a",
   "metadata": {},
   "outputs": [
    {
     "data": {
      "text/plain": [
       "(2000, 22500)"
      ]
     },
     "execution_count": 8,
     "metadata": {},
     "output_type": "execute_result"
    }
   ],
   "source": [
    "X_train.shape"
   ]
  },
  {
   "cell_type": "code",
   "execution_count": 9,
   "id": "f4b027f1",
   "metadata": {},
   "outputs": [
    {
     "data": {
      "text/plain": [
       "(2000, 1, 150, 150)"
      ]
     },
     "execution_count": 9,
     "metadata": {},
     "output_type": "execute_result"
    }
   ],
   "source": [
    "X_train = np.reshape(X_train, (X_train.shape[0], 1, 150, 150))\n",
    "X_train.shape"
   ]
  },
  {
   "cell_type": "code",
   "execution_count": 12,
   "id": "ecc0db0a",
   "metadata": {},
   "outputs": [],
   "source": [
    "tensor_x = torch.Tensor(X_train) # transform to torch tensor\n",
    "tensor_y = torch.Tensor(y0)\n",
    "tensor_y = tensor_y.type(torch.LongTensor)"
   ]
  },
  {
   "cell_type": "code",
   "execution_count": 13,
   "id": "ea885e7d",
   "metadata": {},
   "outputs": [],
   "source": [
    "import torch\n",
    "import numpy as np\n",
    "from torch.utils.data import TensorDataset, DataLoader"
   ]
  },
  {
   "cell_type": "markdown",
   "id": "4d1bd79c",
   "metadata": {},
   "source": [
    "# split to training set and validation set"
   ]
  },
  {
   "cell_type": "code",
   "execution_count": 43,
   "id": "631a7b8a",
   "metadata": {},
   "outputs": [
    {
     "name": "stdout",
     "output_type": "stream",
     "text": [
      "2000\n",
      "1500\n",
      "500\n",
      "<torch.utils.data.dataset.TensorDataset object at 0x7fdbfeea3910>\n",
      "torch.Size([16, 1, 150, 150]) torch.Size([16])\n"
     ]
    }
   ],
   "source": [
    "from torchvision.datasets import ImageFolder\n",
    "from torch.utils.data import Subset\n",
    "from sklearn.model_selection import train_test_split\n",
    "from torchvision.transforms import Compose, ToTensor, Resize\n",
    "from torch.utils.data import DataLoader\n",
    "\n",
    "batch_size = 16\n",
    "num_workers = 1\n",
    "epoch = 10\n",
    "num_epochs = 25\n",
    "\n",
    "dataset_tensor = TensorDataset(tensor_x,tensor_y) # create your datset\n",
    "\n",
    "def train_val_dataset(dataset, val_split=0.25):\n",
    "    train_idx, val_idx = train_test_split(list(range(len(dataset))), test_size=val_split)\n",
    "    datasets = {}\n",
    "    datasets['train'] = Subset(dataset, train_idx)\n",
    "    datasets['val'] = Subset(dataset, val_idx)\n",
    "    return datasets\n",
    "\n",
    "print(len(dataset))\n",
    "datasets = train_val_dataset(dataset_tensor)\n",
    "print(len(datasets['train']))\n",
    "print(len(datasets['val']))\n",
    "# The original dataset is available in the Subset class\n",
    "print(datasets['train'].dataset)\n",
    "\n",
    "dataloaders = {x:DataLoader(datasets[x], shuffle=True, num_workers=4, batch_size=batch_size,) for x in ['train','val']}\n",
    "x,y = next(iter(dataloaders['train']))\n",
    "\n",
    "dataset_sizes = {x: len(datasets[x]) for x in ['train', 'val']}\n",
    "\n",
    "print(x.shape, y.shape)"
   ]
  },
  {
   "cell_type": "code",
   "execution_count": 15,
   "id": "f6dfad7d",
   "metadata": {},
   "outputs": [],
   "source": [
    "device = torch.device(\"cuda:0\" if torch.cuda.is_available() else \"cpu\")"
   ]
  },
  {
   "cell_type": "code",
   "execution_count": 16,
   "id": "e3022e80",
   "metadata": {},
   "outputs": [],
   "source": [
    "from __future__ import print_function, division\n",
    "\n",
    "import torch\n",
    "import torch.nn as nn\n",
    "import torch.optim as optim\n",
    "from torch.optim import lr_scheduler\n",
    "import torch.backends.cudnn as cudnn\n",
    "import numpy as np\n",
    "import torchvision\n",
    "from torchvision import datasets, models, transforms\n",
    "import matplotlib.pyplot as plt\n",
    "import time\n",
    "import os\n",
    "import copy\n",
    "\n",
    "cudnn.benchmark = True"
   ]
  },
  {
   "cell_type": "markdown",
   "id": "5d69d3f0",
   "metadata": {},
   "source": [
    "# Train the model"
   ]
  },
  {
   "cell_type": "code",
   "execution_count": 17,
   "id": "54a1a599",
   "metadata": {},
   "outputs": [],
   "source": [
    "loss_train = []\n",
    "acc_train = []\n",
    "loss_val = []\n",
    "acc_val = []\n",
    "def train_model(model, criterion, optimizer, scheduler, num_epochs):\n",
    "    since = time.time()\n",
    "\n",
    "    best_model_wts = copy.deepcopy(model.state_dict())\n",
    "    best_acc = 0.0\n",
    "\n",
    "    for epoch in range(num_epochs):\n",
    "        print(f'Epoch {epoch}/{num_epochs - 1}')\n",
    "        print('-' * 10)\n",
    "        # Each epoch has a training and validation phase\n",
    "        for phase in ['train', 'val']:\n",
    "            if phase == 'train':\n",
    "                model.train()  # Set model to training mode\n",
    "            else:\n",
    "                model.eval()   # Set model to evaluate mode\n",
    "\n",
    "            running_loss = 0.0\n",
    "            running_corrects = 0\n",
    "\n",
    "            # Iterate over data.\n",
    "            for inputs, labels in dataloaders[phase]:\n",
    "                inputs = inputs.to(device)\n",
    "                labels = labels.to(device)\n",
    "\n",
    "                # zero the parameter gradients\n",
    "                optimizer.zero_grad()\n",
    "\n",
    "                # forward\n",
    "                # track history if only in train\n",
    "                with torch.set_grad_enabled(phase == 'train'):\n",
    "                    outputs = model(inputs)\n",
    "                    _, preds = torch.max(outputs, 1)\n",
    "                    loss = criterion(outputs, labels)\n",
    "\n",
    "                    # backward + optimize only if in training phase\n",
    "                    if phase == 'train':\n",
    "                        loss.backward()\n",
    "                        optimizer.step()\n",
    "\n",
    "                # statistics\n",
    "                running_loss += loss.item() * inputs.size(0)\n",
    "                running_corrects += torch.sum(preds == labels.data)\n",
    "            if phase == 'train':\n",
    "                scheduler.step()\n",
    "\n",
    "            epoch_loss = running_loss / dataset_sizes[phase]\n",
    "            epoch_acc = running_corrects.double() / dataset_sizes[phase]\n",
    "            \n",
    "\n",
    "            print(f'{phase} Loss: {epoch_loss:.4f} Acc: {epoch_acc:.4f}')\n",
    "            \n",
    "            if phase == 'train':\n",
    "                loss_train.append(epoch_loss)\n",
    "                acc_train.append(epoch_acc)\n",
    "            else:\n",
    "                loss_val.append(epoch_loss)\n",
    "                acc_val.append(epoch_acc)\n",
    "\n",
    "            # deep copy the model\n",
    "            if phase == 'val' and epoch_acc > best_acc:\n",
    "                best_acc = epoch_acc\n",
    "                best_model_wts = copy.deepcopy(model.state_dict())\n",
    "                \n",
    "\n",
    "        print()\n",
    "\n",
    "    time_elapsed = time.time() - since\n",
    "    print(f'Training complete in {time_elapsed // 60:.0f}m {time_elapsed % 60:.0f}s')\n",
    "    print(f'Best val Acc: {best_acc:4f}')\n",
    "\n",
    "    # load best model weights\n",
    "    PATH = dir +'cnn.pth'\n",
    "    torch.save(model.state_dict(), PATH)\n",
    "    model.load_state_dict(best_model_wts)\n",
    "    return model"
   ]
  },
  {
   "cell_type": "markdown",
   "id": "2abe9038",
   "metadata": {},
   "source": [
    "# Model"
   ]
  },
  {
   "cell_type": "code",
   "execution_count": 18,
   "id": "b89136fc",
   "metadata": {},
   "outputs": [],
   "source": [
    "import torch\n",
    "from torch import nn\n",
    "from torch.nn import functional as F\n",
    "from d2l import torch as d2l\n",
    "\n",
    "\n",
    "class Inception(nn.Module):\n",
    "    # `c1`--`c4` are the number of output channels for each path\n",
    "    def __init__(self, in_channels, c1, c2, c3, c4, **kwargs):\n",
    "        super(Inception, self).__init__(**kwargs)\n",
    "        # Path 1 is a single 1 x 1 convolutional layer\n",
    "        self.p1_1 = nn.Conv2d(in_channels, c1, kernel_size=1)\n",
    "        # Path 2 is a 1 x 1 convolutional layer followed by a 3 x 3\n",
    "        # convolutional layer\n",
    "        self.p2_1 = nn.Conv2d(in_channels, c2[0], kernel_size=1)\n",
    "        self.p2_2 = nn.Conv2d(c2[0], c2[1], kernel_size=3, padding=1)\n",
    "        # Path 3 is a 1 x 1 convolutional layer followed by a 5 x 5\n",
    "        # convolutional layer\n",
    "        self.p3_1 = nn.Conv2d(in_channels, c3[0], kernel_size=1)\n",
    "        self.p3_2 = nn.Conv2d(c3[0], c3[1], kernel_size=5, padding=2)\n",
    "        # Path 4 is a 3 x 3 maximum pooling layer followed by a 1 x 1\n",
    "        # convolutional layer\n",
    "        self.p4_1 = nn.MaxPool2d(kernel_size=3, stride=1, padding=1)\n",
    "        self.p4_2 = nn.Conv2d(in_channels, c4, kernel_size=1)\n",
    "\n",
    "    def forward(self, x):\n",
    "        p1 = F.relu(self.p1_1(x))\n",
    "        p2 = F.relu(self.p2_2(F.relu(self.p2_1(x))))\n",
    "        p3 = F.relu(self.p3_2(F.relu(self.p3_1(x))))\n",
    "        p4 = F.relu(self.p4_2(self.p4_1(x)))\n",
    "        # Concatenate the outputs on the channel dimension\n",
    "        return torch.cat((p1, p2, p3, p4), dim=1)"
   ]
  },
  {
   "cell_type": "code",
   "execution_count": 19,
   "id": "06729a16",
   "metadata": {},
   "outputs": [],
   "source": [
    "b1 = nn.Sequential(nn.Conv2d(1, 64, kernel_size=7, stride=2, padding=3),\n",
    "                   nn.ReLU(),\n",
    "                   nn.MaxPool2d(kernel_size=3, stride=2, padding=1))"
   ]
  },
  {
   "cell_type": "code",
   "execution_count": 20,
   "id": "e0e59f6c",
   "metadata": {},
   "outputs": [],
   "source": [
    "b2 = nn.Sequential(nn.Conv2d(64, 64, kernel_size=1),\n",
    "                   nn.ReLU(),\n",
    "                   nn.Conv2d(64, 192, kernel_size=3, padding=1),\n",
    "                   nn.ReLU(),\n",
    "                   nn.MaxPool2d(kernel_size=3, stride=2, padding=1))"
   ]
  },
  {
   "cell_type": "code",
   "execution_count": 21,
   "id": "9c1c1981",
   "metadata": {},
   "outputs": [],
   "source": [
    "b3 = nn.Sequential(Inception(192, 64, (96, 128), (16, 32), 32),\n",
    "                   Inception(256, 128, (128, 192), (32, 96), 64),\n",
    "                   nn.MaxPool2d(kernel_size=3, stride=2, padding=1))"
   ]
  },
  {
   "cell_type": "code",
   "execution_count": 22,
   "id": "a4370954",
   "metadata": {},
   "outputs": [],
   "source": [
    "b4 = nn.Sequential(Inception(480, 192, (96, 208), (16, 48), 64),\n",
    "                   Inception(512, 160, (112, 224), (24, 64), 64),\n",
    "                   Inception(512, 128, (128, 256), (24, 64), 64),\n",
    "                   Inception(512, 112, (144, 288), (32, 64), 64),\n",
    "                   Inception(528, 256, (160, 320), (32, 128), 128),\n",
    "                   nn.MaxPool2d(kernel_size=3, stride=2, padding=1))"
   ]
  },
  {
   "cell_type": "code",
   "execution_count": 23,
   "id": "dbc58270",
   "metadata": {},
   "outputs": [],
   "source": [
    "b5 = nn.Sequential(Inception(832, 256, (160, 320), (32, 128), 128),\n",
    "                   Inception(832, 384, (192, 384), (48, 128), 128),\n",
    "                   nn.AdaptiveAvgPool2d((1,1)),\n",
    "                   nn.Flatten())\n",
    "\n",
    "model_conv = nn.Sequential(b1, b2, b3, b4, b5, nn.Linear(1024, classes+1))"
   ]
  },
  {
   "cell_type": "code",
   "execution_count": 24,
   "id": "af53123a",
   "metadata": {},
   "outputs": [],
   "source": [
    "model_conv = model_conv.to(device)\n",
    "\n",
    "criterion = nn.CrossEntropyLoss()\n",
    "\n",
    "# Observe that only parameters of final layer are being optimized as\n",
    "# opposed to before.\n",
    "optimizer_conv = optim.SGD(model_conv.parameters(), lr=0.001, momentum=0.9)\n",
    "\n",
    "# Decay LR by a factor of 0.1 every 7 epochs\n",
    "exp_lr_scheduler = lr_scheduler.StepLR(optimizer_conv, step_size=7, gamma=0.1)"
   ]
  },
  {
   "cell_type": "code",
   "execution_count": null,
   "id": "8701b924",
   "metadata": {},
   "outputs": [
    {
     "name": "stdout",
     "output_type": "stream",
     "text": [
      "Fold 1\n",
      "Epoch 0/9\n",
      "----------\n"
     ]
    }
   ],
   "source": [
    "for fold, (train_idx,val_idx) in enumerate(splits.split(np.arange(len(dataset)))):\n",
    "\n",
    "    print('Fold {}'.format(fold + 1))\n",
    "\n",
    "    train_sampler = SubsetRandomSampler(train_idx)\n",
    "    test_sampler = SubsetRandomSampler(val_idx)\n",
    "    train_loader = DataLoader(dataset, batch_size=batch_size, sampler=train_sampler)\n",
    "    test_loader = DataLoader(dataset, batch_size=batch_size, sampler=test_sampler)\n",
    "\n",
    "    model_conv = train_model(model_conv, criterion, optimizer_conv,\n",
    "                         exp_lr_scheduler, num_epochs=epoch)\n",
    "      "
   ]
  },
  {
   "cell_type": "markdown",
   "id": "2d84a21b",
   "metadata": {},
   "source": [
    "# Plot loss"
   ]
  },
  {
   "cell_type": "code",
   "execution_count": 83,
   "id": "a85217d7",
   "metadata": {},
   "outputs": [],
   "source": [
    "from matplotlib import pyplot as plt"
   ]
  },
  {
   "cell_type": "code",
   "execution_count": 84,
   "id": "4d2eaec6",
   "metadata": {},
   "outputs": [],
   "source": [
    "epochs = list(range(0, epoch))"
   ]
  },
  {
   "cell_type": "code",
   "execution_count": 85,
   "id": "0fe4f729",
   "metadata": {},
   "outputs": [
    {
     "data": {
      "image/png": "[encoded data removed]",
      "text/plain": [
       "<Figure size 432x288 with 1 Axes>"
      ]
     },
     "metadata": {
      "needs_background": "light"
     },
     "output_type": "display_data"
    }
   ],
   "source": [
    "plt.plot(epochs, loss_train, label = \"Train\")\n",
    "plt.plot(epochs, loss_val, label = \"Test\")\n",
    "\n",
    "plt.legend()\n",
    "plt.xlabel(\"epoch\")\n",
    "plt.ylabel(\"loss\")\n",
    "plt.title(\"Loss of CNN with lr= 0.001\")\n",
    "\n",
    "plt.savefig('0.001_10000loss.jpg')\n",
    "plt.show()"
   ]
  },
  {
   "cell_type": "code",
   "execution_count": 86,
   "id": "840656b9",
   "metadata": {},
   "outputs": [
    {
     "data": {
      "image/png": "[encoded data removed]",
      "text/plain": [
       "<Figure size 432x288 with 1 Axes>"
      ]
     },
     "metadata": {
      "needs_background": "light"
     },
     "output_type": "display_data"
    }
   ],
   "source": [
    "plt.plot(epochs, acc_train, label = \"Train\")\n",
    "plt.plot(epochs, acc_val, label = \"Test\")\n",
    "\n",
    "plt.legend()\n",
    "plt.xlabel(\"epoch\")\n",
    "plt.ylabel(\"accuracy\")\n",
    "plt.title(\"Accuracy of CNN with lr = 0.001\")\n",
    "\n",
    "plt.savefig('0.001_10000acc.jpg')\n",
    "plt.show()"
   ]
  },
  {
   "cell_type": "code",
   "execution_count": null,
   "id": "a72a24df",
   "metadata": {},
   "outputs": [],
   "source": []
  },
  {
   "cell_type": "code",
   "execution_count": null,
   "id": "1cbec984",
   "metadata": {},
   "outputs": [],
   "source": []
  }
 ],
 "metadata": {
  "kernelspec": {
   "display_name": "Python 3 (ipykernel)",
   "language": "python",
   "name": "python3"
  },
  "language_info": {
   "codemirror_mode": {
    "name": "ipython",
    "version": 3
   },
   "file_extension": ".py",
   "mimetype": "text/x-python",
   "name": "python",
   "nbconvert_exporter": "python",
   "pygments_lexer": "ipython3",
   "version": "3.8.12"
  }
 },
 "nbformat": 4,
 "nbformat_minor": 5
}
